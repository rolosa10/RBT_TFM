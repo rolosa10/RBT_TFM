{
 "cells": [
  {
   "cell_type": "markdown",
   "id": "2b33d41c",
   "metadata": {},
   "source": [
    "### Imports"
   ]
  },
  {
   "cell_type": "code",
   "execution_count": 1,
   "id": "abe37a25",
   "metadata": {},
   "outputs": [
    {
     "name": "stderr",
     "output_type": "stream",
     "text": [
      "Using TensorFlow backend.\n"
     ]
    }
   ],
   "source": [
    "import tensorflow as tf\n",
    "import pandas as pd\n",
    "from matplotlib import pyplot as plt\n",
    "from sklearn.model_selection import train_test_split\n",
    "import keras\n",
    "from keras import layers\n",
    "from keras.models import Sequential, Model\n",
    "from keras.layers import Input, Dense, ReLU, BatchNormalization, Flatten, Dense, Dropout, ReLU, LSTM\n",
    "from keras.wrappers.scikit_learn import KerasClassifier\n",
    "from sklearn.model_selection import cross_val_score\n",
    "from sklearn.model_selection import KFold\n",
    "import numpy as np\n",
    "from scipy.spatial import distance\n",
    "from sklearn.preprocessing import StandardScaler\n",
    "import pickle\n",
    "from glob import glob\n",
    "import cv2\n",
    "import random\n",
    "from keras.callbacks import ModelCheckpoint\n",
    "from keras.regularizers import l2\n",
    "import math"
   ]
  },
  {
   "cell_type": "code",
   "execution_count": 2,
   "id": "827f2353",
   "metadata": {},
   "outputs": [],
   "source": [
    "physical_devices = tf.config.list_physical_devices('GPU') \n",
    "for device in physical_devices:\n",
    "    tf.config.experimental.set_memory_growth(device, True)"
   ]
  },
  {
   "cell_type": "markdown",
   "id": "4e8cc3f9",
   "metadata": {},
   "source": [
    "### Variables"
   ]
  },
  {
   "cell_type": "code",
   "execution_count": 3,
   "id": "66081244",
   "metadata": {},
   "outputs": [],
   "source": [
    "columns_df_2D_interest = ['RightShoulder_2D','RightShoulder_2D.1',\n",
    "                          'RightElbow_2D', 'RightElbow_2D.1',\n",
    "                          'RightHand_2D','RightHand_2D.1',\n",
    "                          'LeftShoulder_2D','LeftShoulder_2D.1',\n",
    "                          'LeftElbow_2D', 'LeftElbow_2D.1', \n",
    "                          'LeftHand_2D','LeftHand_2D.1']\n",
    "\n",
    "columns_df_3D_interest = ['RightShoulder','RightShoulder.1','RightShoulder.2',\n",
    "                          'RightElbow', 'RightElbow.1','RightElbow.2',\n",
    "                          'RightHand','RightHand.1','RightHand.2',\n",
    "                          'LeftShoulder','LeftShoulder.1','LeftShoulder.2',\n",
    "                          'LeftElbow', 'LeftElbow.1', 'LeftElbow.2',\n",
    "                          'LeftHand','LeftHand.1','LeftHand.2']\n",
    "\n",
    "mapping_numbers_variables = {0:'right_shoulder',\n",
    "                             1:'right_elbow',\n",
    "                             2:'right_wrist',\n",
    "                             3:'left_shoulder',\n",
    "                             4:'left_elbow',\n",
    "                             5:'left_wrist'}\n",
    "\n",
    "keypoints_number = 6"
   ]
  },
  {
   "cell_type": "markdown",
   "id": "45467a7f",
   "metadata": {},
   "source": [
    "### Functions"
   ]
  },
  {
   "cell_type": "code",
   "execution_count": 4,
   "id": "93f706cb",
   "metadata": {},
   "outputs": [],
   "source": [
    "def split_nd_coordinates_array(coordinates_array, n): \n",
    "    m = 0\n",
    "    r = n\n",
    "    frame_coordinates = []\n",
    "    for j in range(0,int(len(coordinates_array)/n)):\n",
    "        frame_coordinates.append(coordinates_array[m:r])\n",
    "        m = r\n",
    "        r = r+n\n",
    "    return(np.array(frame_coordinates))"
   ]
  },
  {
   "cell_type": "markdown",
   "id": "7e43e836",
   "metadata": {},
   "source": [
    "###  Load dataset"
   ]
  },
  {
   "cell_type": "code",
   "execution_count": 5,
   "id": "be755d78",
   "metadata": {},
   "outputs": [
    {
     "name": "stdout",
     "output_type": "stream",
     "text": [
      "(32948, 12)\n",
      "(32948, 12)\n"
     ]
    }
   ],
   "source": [
    "df_mocap_2D = pd.read_csv('../../../datasets/RGSClinic/No-Gravity/Dataset_MoCap_RGSclinic_KinectCamera.csv')[columns_df_2D_interest]\n",
    "df_mocap_3D  = pd.read_csv('../../../datasets/RGSClinic/No-Gravity/Dataset_MoCap_RGSclinic_KinectCamera.csv')[columns_df_3D_interest]\n",
    "\n",
    "print(df_mocap_2D.shape)\n",
    "print(df_mocap_2D.shape)"
   ]
  },
  {
   "cell_type": "markdown",
   "id": "cd8358bf",
   "metadata": {},
   "source": [
    "#### 2D and 3D data augmentation via horizontal flipping"
   ]
  },
  {
   "cell_type": "code",
   "execution_count": 6,
   "id": "8938a374",
   "metadata": {},
   "outputs": [],
   "source": [
    "#2D augmentation via flipping x axis\n",
    "height,width = (1080,1920)\n",
    "\n",
    "flipped_list_2D = []\n",
    "for i in range(0,len(df_mocap_2D)):\n",
    "    frame_keypoint_coordinates = split_nd_coordinates_array(np.array(df_mocap_2D.iloc[i]),2)\n",
    "    flipped_frame_coordinates_x = width - frame_keypoint_coordinates[:,0]\n",
    "    flipped_array = np.zeros([6,2])\n",
    "    flipped_array[:,0] = flipped_frame_coordinates_x\n",
    "    flipped_array[:,1] = frame_keypoint_coordinates[:,1]\n",
    "    \n",
    "    #Transforming it to vector(12,)\n",
    "    flipped_array = flipped_array.reshape(-1)\n",
    "    flipped_list_2D.append(flipped_array)\n",
    "\n",
    "#To map the dataframe columns into its flipped corresponding keypoint name\n",
    "flipped_columns_names_2D = [\n",
    "    'LeftShoulder_2D','LeftShoulder_2D.1',\n",
    "    'LeftElbow_2D','LeftElbow_2D.1',\n",
    "    'LeftHand_2D','LeftHand_2D.1',\n",
    "    'RightShoulder_2D','RightShoulder_2D.1',\n",
    "    'RightElbow_2D','RightElbow_2D.1',\n",
    "    'RightHand_2D','RightHand_2D.1']\n",
    "                        \n",
    "flipped_2D_df = pd.DataFrame(flipped_list_2D).rename(columns=dict(enumerate(flipped_columns_names_2D)))\n",
    "\n",
    "#Sorting it in the same order as the original dataframe to append it\n",
    "flipped_2D_df = flipped_2D_df[['RightShoulder_2D','RightShoulder_2D.1','RightElbow_2D','RightElbow_2D.1','RightHand_2D','RightHand_2D.1', 'LeftShoulder_2D','LeftShoulder_2D.1','LeftElbow_2D','LeftElbow_2D.1','LeftHand_2D','LeftHand_2D.1']]\n",
    "df_mocap_2D = df_mocap_2D.append(flipped_2D_df).reset_index().drop(columns=['index'])\n",
    "\n",
    "#3D data augmentation via flipping x axis\n",
    "\n",
    "flipped_list_3D = []\n",
    "for i in range(0,len(df_mocap_3D)):\n",
    "    frame_3d_keypoint_coordinates_x = np.array(split_nd_coordinates_array(np.array(df_mocap_3D.iloc[i]),3))\n",
    "\n",
    "    \n",
    "    flipped_3d_array = np.zeros([6,3])\n",
    "    flipped_3d_array[:,0] = -frame_3d_keypoint_coordinates_x[:,0]\n",
    "    flipped_3d_array[:,1] = frame_3d_keypoint_coordinates_x[:,1]\n",
    "    flipped_3d_array[:,2] = frame_3d_keypoint_coordinates_x[:,2]\n",
    "    \n",
    "    flipped_3d_array = flipped_3d_array.reshape(-1)\n",
    "    flipped_list_3D.append(flipped_3d_array)\n",
    "\n",
    "flipped_columns_names_3D = [\n",
    "    'LeftShoulder', 'LeftShoulder.1', 'LeftShoulder.2',\n",
    "    'LeftElbow', 'LeftElbow.1', 'LeftElbow.2', \n",
    "    'LeftHand', 'LeftHand.1','LeftHand.2',\n",
    "    'RightShoulder', 'RightShoulder.1', 'RightShoulder.2', \n",
    "    'RightElbow','RightElbow.1', 'RightElbow.2', \n",
    "    'RightHand', 'RightHand.1','RightHand.2', ]\n",
    "\n",
    "flipped_3D_df = pd.DataFrame(flipped_list_3D).rename(columns=dict(enumerate(flipped_columns_names_3D)))\n",
    "flipped_3D_df = flipped_3D_df[['RightShoulder', 'RightShoulder.1', 'RightShoulder.2', 'RightElbow',\n",
    "       'RightElbow.1', 'RightElbow.2', 'RightHand', 'RightHand.1',\n",
    "       'RightHand.2', 'LeftShoulder', 'LeftShoulder.1', 'LeftShoulder.2',\n",
    "       'LeftElbow', 'LeftElbow.1', 'LeftElbow.2', 'LeftHand', 'LeftHand.1',\n",
    "       'LeftHand.2']]\n",
    "df_mocap_3D = df_mocap_3D.append(flipped_3D_df).reset_index().drop(columns=['index'])"
   ]
  },
  {
   "cell_type": "code",
   "execution_count": 7,
   "id": "f82f77a2",
   "metadata": {},
   "outputs": [
    {
     "data": {
      "text/plain": [
       "(65896, 12)"
      ]
     },
     "execution_count": 7,
     "metadata": {},
     "output_type": "execute_result"
    }
   ],
   "source": [
    "df_mocap_2D.shape"
   ]
  },
  {
   "cell_type": "code",
   "execution_count": 8,
   "id": "735e20b4",
   "metadata": {},
   "outputs": [
    {
     "data": {
      "text/plain": [
       "(65896, 18)"
      ]
     },
     "execution_count": 8,
     "metadata": {},
     "output_type": "execute_result"
    }
   ],
   "source": [
    "df_mocap_3D.shape"
   ]
  },
  {
   "cell_type": "markdown",
   "id": "426dccc9",
   "metadata": {},
   "source": [
    "### Noise addition"
   ]
  },
  {
   "cell_type": "code",
   "execution_count": 9,
   "id": "2103e1fa",
   "metadata": {},
   "outputs": [],
   "source": [
    "def split_2_coordinates(values_array): \n",
    "    output = []\n",
    "    for i in range(0, len(values_array)):\n",
    "        m = 0\n",
    "        r = 2\n",
    "        frame_coordinates = []\n",
    "        for j in range(0,int(len(values_array[i])/2)):\n",
    "            frame_coordinates.append(values_array[i][m:r])\n",
    "            m = r\n",
    "            r = r+2\n",
    "        output.append(frame_coordinates)\n",
    "    return(output)"
   ]
  },
  {
   "cell_type": "code",
   "execution_count": 10,
   "id": "70da2560",
   "metadata": {},
   "outputs": [
    {
     "name": "stdout",
     "output_type": "stream",
     "text": [
      "(65896, 12)\n"
     ]
    }
   ],
   "source": [
    "df_2D_original_splitted = pd.DataFrame(split_2_coordinates(np.array(df_mocap_2D)))\n",
    "df_2D_noise1 = []\n",
    "for i in range(0,df_2D_original_splitted.shape[0]):\n",
    "    row_keypoint_numbers = []\n",
    "    for j in range(0,df_2D_original_splitted.shape[1]):\n",
    "        \n",
    "        circle_r = 100 #Maximum radius\n",
    "        \n",
    "        circle_x = df_2D_original_splitted.iloc[i][j][0]\n",
    "        circle_y = df_2D_original_splitted.iloc[i][j][1]\n",
    "        \n",
    "        alpha = 2 * math.pi * random.random()\n",
    "        # random radius\n",
    "        r = circle_r * math.sqrt(random.random())\n",
    "        \n",
    "        # calculating coordinates\n",
    "        x = r * math.cos(alpha) + circle_x\n",
    "        x = round(x,2)\n",
    "        \n",
    "        y = r * math.sin(alpha) + circle_y\n",
    "        y = round(y,2)\n",
    "        \n",
    "        row_keypoint_numbers.append(x)\n",
    "        row_keypoint_numbers.append(y)\n",
    "    df_2D_noise1.append(row_keypoint_numbers)\n",
    "    \n",
    "    \n",
    "df_2D_noise1 = pd.DataFrame(df_2D_noise1)\n",
    "    \n",
    "df_mocap_2D = df_2D_noise1\n",
    "df_mocap_2D.head(5)\n",
    "print(df_mocap_2D.shape)"
   ]
  },
  {
   "cell_type": "markdown",
   "id": "31612579",
   "metadata": {},
   "source": [
    "### Data normalization"
   ]
  },
  {
   "cell_type": "code",
   "execution_count": 11,
   "id": "e02514cb",
   "metadata": {},
   "outputs": [],
   "source": [
    "scaler_2d = StandardScaler()\n",
    "scaler_3d = StandardScaler()\n",
    "df_mocap_2D = pd.DataFrame(scaler_2d.fit_transform(np.array(df_mocap_2D)), columns = columns_df_2D_interest)\n",
    "df_mocap_3D = pd.DataFrame(scaler_3d.fit_transform(np.array(df_mocap_3D)), columns = columns_df_3D_interest)"
   ]
  },
  {
   "cell_type": "markdown",
   "id": "a20782b8",
   "metadata": {},
   "source": [
    "#### Data preprocessing to create spatio-temporal graph\n",
    "\n",
    "Taking window length of 5 and sliding the window by one frame --> Data augmentation"
   ]
  },
  {
   "cell_type": "code",
   "execution_count": 12,
   "id": "5fe6b8d5",
   "metadata": {},
   "outputs": [],
   "source": [
    "r0 = 0\n",
    "rf = 5\n",
    "windowed_df_mocap_2D = []\n",
    "windowed_df_mocap_3D = []\n",
    "prueba = []\n",
    "\n",
    "while rf <= int(np.rint(df_mocap_2D.shape[0])):\n",
    "\n",
    "    windowed_df_mocap_2D.append(np.array(df_mocap_2D.iloc[r0:rf]))\n",
    "    windowed_df_mocap_3D.append(np.array(df_mocap_3D.iloc[r0:rf]))\n",
    "    r0 += 1\n",
    "    rf += 1  "
   ]
  },
  {
   "cell_type": "markdown",
   "id": "d3a6b3af",
   "metadata": {},
   "source": [
    "### Reversing the input sequence (2D) as sugested by Sutsekver et al. \n",
    "\n",
    "By reversing the order of the input but not the target (3D) in training and test set it can be introduced a short term dependency that make the optimization problem much simpler"
   ]
  },
  {
   "cell_type": "code",
   "execution_count": 13,
   "id": "135e7085",
   "metadata": {},
   "outputs": [],
   "source": [
    "windowed_df_mocap_2D_reversed = []\n",
    "for i in range(0,len(windowed_df_mocap_2D)):\n",
    "    windowed_df_mocap_2D_reversed.append(np.flip(windowed_df_mocap_2D[i], axis=0))"
   ]
  },
  {
   "cell_type": "code",
   "execution_count": 14,
   "id": "dffa11df",
   "metadata": {},
   "outputs": [],
   "source": [
    "encoder_input_data = np.array(windowed_df_mocap_2D_reversed)\n",
    "decoder_input_data = np.array(windowed_df_mocap_3D)\n",
    "decoder_target_data = decoder_input_data.copy()\n",
    "#decoder_target_data[0][0] = np.ones([18])"
   ]
  },
  {
   "cell_type": "markdown",
   "id": "4e15e24d",
   "metadata": {},
   "source": [
    "### Train Test split shuffle no"
   ]
  },
  {
   "cell_type": "code",
   "execution_count": 15,
   "id": "bf8d64c7",
   "metadata": {},
   "outputs": [
    {
     "name": "stdout",
     "output_type": "stream",
     "text": [
      "(59302, 5, 12)\n",
      "(59302, 5, 18)\n"
     ]
    }
   ],
   "source": [
    "X_train, X_test, y_train, y_test = train_test_split(np.array(windowed_df_mocap_2D_reversed), np.array(windowed_df_mocap_3D), test_size=0.1, random_state=27)\n",
    "print(X_train.shape)\n",
    "print(y_train.shape)"
   ]
  },
  {
   "cell_type": "code",
   "execution_count": 16,
   "id": "b85a8ddf",
   "metadata": {},
   "outputs": [
    {
     "name": "stdout",
     "output_type": "stream",
     "text": [
      "(6590, 5, 12)\n",
      "(6590, 5, 18)\n"
     ]
    }
   ],
   "source": [
    "print(X_test.shape)\n",
    "print(y_test.shape)"
   ]
  },
  {
   "cell_type": "markdown",
   "id": "f92eb927",
   "metadata": {},
   "source": [
    "### Seq2Seq network definition"
   ]
  },
  {
   "cell_type": "code",
   "execution_count": 17,
   "id": "ebe27f6a",
   "metadata": {
    "scrolled": true
   },
   "outputs": [
    {
     "name": "stdout",
     "output_type": "stream",
     "text": [
      "Model: \"model_1\"\n",
      "__________________________________________________________________________________________________\n",
      "Layer (type)                    Output Shape         Param #     Connected to                     \n",
      "==================================================================================================\n",
      "input_1 (InputLayer)            (None, 5, 12)        0                                            \n",
      "__________________________________________________________________________________________________\n",
      "lstm_1 (LSTM)                   [(None, 1536), (None 9517056     input_1[0][0]                    \n",
      "__________________________________________________________________________________________________\n",
      "repeat_vector_1 (RepeatVector)  (None, 5, 1536)      0           lstm_1[0][0]                     \n",
      "__________________________________________________________________________________________________\n",
      "lstm_2 (LSTM)                   (None, 5, 1536)      18880512    repeat_vector_1[0][0]            \n",
      "                                                                 lstm_1[0][1]                     \n",
      "                                                                 lstm_1[0][2]                     \n",
      "__________________________________________________________________________________________________\n",
      "time_distributed_1 (TimeDistrib (None, 5, 18)        27666       lstm_2[0][0]                     \n",
      "==================================================================================================\n",
      "Total params: 28,425,234\n",
      "Trainable params: 28,425,234\n",
      "Non-trainable params: 0\n",
      "__________________________________________________________________________________________________\n"
     ]
    }
   ],
   "source": [
    "initializer = keras.initializers.glorot_uniform()\n",
    "\n",
    "encoder_inputs = keras.layers.Input(shape=(5, 12))\n",
    "encoder_l1 = keras.layers.LSTM(1536, return_state=True)\n",
    "encoder_outputs1 = encoder_l1(encoder_inputs)\n",
    "\n",
    "encoder_states1 = encoder_outputs1[1:]\n",
    "\n",
    "#\n",
    "decoder_inputs = keras.layers.RepeatVector(5)(encoder_outputs1[0])\n",
    "\n",
    "#\n",
    "decoder_l1 = keras.layers.LSTM(1536, return_sequences=True)(decoder_inputs,initial_state = encoder_states1)\n",
    "decoder_outputs1 = keras.layers.TimeDistributed(keras.layers.Dense(18))(decoder_l1)\n",
    "\n",
    "#\n",
    "model= keras.models.Model(encoder_inputs,decoder_outputs1)\n",
    "\n",
    "\n",
    "\n",
    "initial_learning_rate = 1e-5\n",
    "lr_schedule = tf.keras.optimizers.schedules.ExponentialDecay(\n",
    "    initial_learning_rate,\n",
    "    decay_steps=1e3,\n",
    "    decay_rate=0.96,\n",
    "    staircase=True)\n",
    "\n",
    "model.compile(optimizer = tf.keras.optimizers.Adam(learning_rate=lr_schedule),\n",
    "             loss = 'mean_squared_error',\n",
    "             metrics=['mse'])\n",
    "\n",
    "#\n",
    "model.summary()"
   ]
  },
  {
   "cell_type": "code",
   "execution_count": 18,
   "id": "4cb7f2dd",
   "metadata": {},
   "outputs": [],
   "source": [
    "def plot_history(history):\n",
    "    hist = pd.DataFrame(history.history)\n",
    "    hist['epoch'] = history.epoch\n",
    "\n",
    "    plt.figure()\n",
    "    plt.xlabel('Epoch')\n",
    "    plt.ylabel('Mean Square Error [MPG]')\n",
    "    plt.plot(hist['epoch'], hist['mse'], alpha = 0.7,label='Train Error')\n",
    "    plt.plot(hist['epoch'], hist['val_mse'],label = 'Val Error')\n",
    "    plt.title('Learning curves')\n",
    "    plt.legend()\n",
    "    plt.show()"
   ]
  },
  {
   "cell_type": "code",
   "execution_count": 19,
   "id": "c67d5e4e",
   "metadata": {},
   "outputs": [
    {
     "name": "stdout",
     "output_type": "stream",
     "text": [
      "Train on 50406 samples, validate on 8896 samples\n",
      "Epoch 1/100\n",
      "50406/50406 [==============================] - 48s 943us/step - loss: 0.0720 - mse: 0.0720 - val_loss: 0.0238 - val_mse: 0.0238\n",
      "Epoch 2/100\n",
      "50406/50406 [==============================] - 47s 934us/step - loss: 0.0205 - mse: 0.0205 - val_loss: 0.0188 - val_mse: 0.0188\n",
      "Epoch 3/100\n",
      "50406/50406 [==============================] - 47s 934us/step - loss: 0.0178 - mse: 0.0178 - val_loss: 0.0174 - val_mse: 0.0174\n",
      "Epoch 4/100\n",
      "50406/50406 [==============================] - 47s 933us/step - loss: 0.0167 - mse: 0.0167 - val_loss: 0.0162 - val_mse: 0.0162\n",
      "Epoch 5/100\n",
      "50406/50406 [==============================] - 47s 936us/step - loss: 0.0159 - mse: 0.0159 - val_loss: 0.0156 - val_mse: 0.0156\n",
      "Epoch 6/100\n",
      "50406/50406 [==============================] - 47s 936us/step - loss: 0.0154 - mse: 0.0154 - val_loss: 0.0152 - val_mse: 0.0152\n",
      "Epoch 7/100\n",
      "50406/50406 [==============================] - 47s 940us/step - loss: 0.0150 - mse: 0.0150 - val_loss: 0.0148 - val_mse: 0.0148 1s - los\n",
      "Epoch 8/100\n",
      "50406/50406 [==============================] - 47s 936us/step - loss: 0.0146 - mse: 0.0146 - val_loss: 0.0141 - val_mse: 0.0141\n",
      "Epoch 9/100\n",
      "50406/50406 [==============================] - 47s 934us/step - loss: 0.0144 - mse: 0.0144 - val_loss: 0.0140 - val_mse: 0.0140\n",
      "Epoch 10/100\n",
      "50406/50406 [==============================] - 47s 938us/step - loss: 0.0141 - mse: 0.0141 - val_loss: 0.0138 - val_mse: 0.0138\n",
      "Epoch 11/100\n",
      "50406/50406 [==============================] - 47s 940us/step - loss: 0.0139 - mse: 0.0139 - val_loss: 0.0136 - val_mse: 0.0136\n",
      "Epoch 12/100\n",
      "50406/50406 [==============================] - 47s 940us/step - loss: 0.0137 - mse: 0.0137 - val_loss: 0.0134 - val_mse: 0.0134\n",
      "Epoch 13/100\n",
      "50406/50406 [==============================] - 47s 938us/step - loss: 0.0135 - mse: 0.0135 - val_loss: 0.0132 - val_mse: 0.0132\n",
      "Epoch 14/100\n",
      "50406/50406 [==============================] - 47s 937us/step - loss: 0.0134 - mse: 0.0134 - val_loss: 0.0131 - val_mse: 0.0131\n",
      "Epoch 15/100\n",
      "50406/50406 [==============================] - 47s 939us/step - loss: 0.0132 - mse: 0.0132 - val_loss: 0.0129 - val_mse: 0.0129\n",
      "Epoch 16/100\n",
      "50406/50406 [==============================] - 47s 938us/step - loss: 0.0131 - mse: 0.0131 - val_loss: 0.0128 - val_mse: 0.0128\n",
      "Epoch 17/100\n",
      "50406/50406 [==============================] - 47s 939us/step - loss: 0.0129 - mse: 0.0129 - val_loss: 0.0128 - val_mse: 0.0128\n",
      "Epoch 18/100\n",
      "50406/50406 [==============================] - 47s 939us/step - loss: 0.0128 - mse: 0.0128 - val_loss: 0.0126 - val_mse: 0.0126\n",
      "Epoch 19/100\n",
      "50406/50406 [==============================] - 47s 939us/step - loss: 0.0127 - mse: 0.0127 - val_loss: 0.0126 - val_mse: 0.0126\n",
      "Epoch 20/100\n",
      "50406/50406 [==============================] - 47s 938us/step - loss: 0.0126 - mse: 0.0126 - val_loss: 0.0125 - val_mse: 0.0125\n",
      "Epoch 21/100\n",
      "50406/50406 [==============================] - 47s 940us/step - loss: 0.0126 - mse: 0.0126 - val_loss: 0.0124 - val_mse: 0.0124\n",
      "Epoch 22/100\n",
      "50406/50406 [==============================] - 47s 939us/step - loss: 0.0125 - mse: 0.0125 - val_loss: 0.0123 - val_mse: 0.0123\n",
      "Epoch 23/100\n",
      "50406/50406 [==============================] - 47s 938us/step - loss: 0.0124 - mse: 0.0124 - val_loss: 0.0122 - val_mse: 0.0122\n",
      "Epoch 24/100\n",
      "50406/50406 [==============================] - 47s 939us/step - loss: 0.0123 - mse: 0.0123 - val_loss: 0.0122 - val_mse: 0.0122- loss: 0.0123 - mse - ETA: 1s - los\n",
      "Epoch 25/100\n",
      "50406/50406 [==============================] - 47s 939us/step - loss: 0.0123 - mse: 0.0123 - val_loss: 0.0121 - val_mse: 0.0121\n",
      "Epoch 26/100\n",
      "50406/50406 [==============================] - 47s 939us/step - loss: 0.0122 - mse: 0.0122 - val_loss: 0.0121 - val_mse: 0.0121\n",
      "Epoch 27/100\n",
      "50406/50406 [==============================] - 47s 942us/step - loss: 0.0122 - mse: 0.0122 - val_loss: 0.0121 - val_mse: 0.0121\n",
      "Epoch 28/100\n",
      "50406/50406 [==============================] - 47s 939us/step - loss: 0.0121 - mse: 0.0121 - val_loss: 0.0120 - val_mse: 0.0120 - loss: 0.012\n",
      "Epoch 29/100\n",
      "50406/50406 [==============================] - 47s 941us/step - loss: 0.0121 - mse: 0.0121 - val_loss: 0.0120 - val_mse: 0.0120\n",
      "Epoch 30/100\n",
      "50406/50406 [==============================] - 47s 941us/step - loss: 0.0120 - mse: 0.0120 - val_loss: 0.0119 - val_mse: 0.0119\n",
      "Epoch 31/100\n",
      "50406/50406 [==============================] - 47s 939us/step - loss: 0.0120 - mse: 0.0120 - val_loss: 0.0119 - val_mse: 0.0119\n",
      "Epoch 32/100\n",
      "50406/50406 [==============================] - 47s 939us/step - loss: 0.0120 - mse: 0.0120 - val_loss: 0.0119 - val_mse: 0.0119\n",
      "Epoch 33/100\n",
      "50406/50406 [==============================] - 47s 940us/step - loss: 0.0119 - mse: 0.0119 - val_loss: 0.0118 - val_mse: 0.0118\n",
      "Epoch 34/100\n",
      "50406/50406 [==============================] - 47s 939us/step - loss: 0.0119 - mse: 0.0119 - val_loss: 0.0118 - val_mse: 0.0118\n",
      "Epoch 35/100\n",
      "50406/50406 [==============================] - 47s 939us/step - loss: 0.0119 - mse: 0.0119 - val_loss: 0.0118 - val_mse: 0.0118\n",
      "Epoch 36/100\n",
      "50406/50406 [==============================] - 47s 940us/step - loss: 0.0118 - mse: 0.0118 - val_loss: 0.0117 - val_mse: 0.0117\n",
      "Epoch 37/100\n",
      "50406/50406 [==============================] - 47s 942us/step - loss: 0.0118 - mse: 0.0118 - val_loss: 0.0118 - val_mse: 0.0118\n",
      "Epoch 38/100\n",
      "50406/50406 [==============================] - 47s 942us/step - loss: 0.0118 - mse: 0.0118 - val_loss: 0.0118 - val_mse: 0.0118\n",
      "Epoch 39/100\n",
      "50406/50406 [==============================] - 47s 940us/step - loss: 0.0118 - mse: 0.0118 - val_loss: 0.0117 - val_mse: 0.0117\n",
      "Epoch 40/100\n",
      "50406/50406 [==============================] - 47s 941us/step - loss: 0.0118 - mse: 0.0118 - val_loss: 0.0117 - val_mse: 0.0117\n",
      "Epoch 41/100\n",
      "50406/50406 [==============================] - 47s 941us/step - loss: 0.0117 - mse: 0.0117 - val_loss: 0.0117 - val_mse: 0.0117\n",
      "Epoch 42/100\n",
      "50406/50406 [==============================] - 47s 939us/step - loss: 0.0117 - mse: 0.0117 - val_loss: 0.0117 - val_mse: 0.0117\n",
      "Epoch 43/100\n",
      "50406/50406 [==============================] - 47s 941us/step - loss: 0.0117 - mse: 0.0117 - val_loss: 0.0116 - val_mse: 0.0116\n",
      "Epoch 44/100\n",
      "50406/50406 [==============================] - 47s 940us/step - loss: 0.0117 - mse: 0.0117 - val_loss: 0.0116 - val_mse: 0.0116\n",
      "Epoch 45/100\n",
      "50406/50406 [==============================] - 47s 940us/step - loss: 0.0117 - mse: 0.0117 - val_loss: 0.0116 - val_mse: 0.0116.01\n",
      "Epoch 46/100\n",
      "50406/50406 [==============================] - 47s 940us/step - loss: 0.0117 - mse: 0.0117 - val_loss: 0.0116 - val_mse: 0.0116 0s - loss: 0.0117 - m\n",
      "Epoch 47/100\n",
      "50406/50406 [==============================] - 48s 943us/step - loss: 0.0116 - mse: 0.0116 - val_loss: 0.0116 - val_mse: 0.0116\n",
      "Epoch 48/100\n",
      "50406/50406 [==============================] - 47s 940us/step - loss: 0.0116 - mse: 0.0116 - val_loss: 0.0116 - val_mse: 0.0116\n",
      "Epoch 49/100\n",
      "50406/50406 [==============================] - 48s 943us/step - loss: 0.0116 - mse: 0.0116 - val_loss: 0.0116 - val_mse: 0.0116\n",
      "Epoch 50/100\n",
      "50406/50406 [==============================] - 48s 943us/step - loss: 0.0116 - mse: 0.0116 - val_loss: 0.0116 - val_mse: 0.0116\n",
      "\n",
      "Epoch 00050: loss improved from inf to 0.01162, saving model to ../models/Non_Gravity/noise_lvl4/model.h5\n",
      "Epoch 51/100\n",
      "  160/50406 [..............................] - ETA: 46s - loss: 0.0119 - mse: 0.0119"
     ]
    },
    {
     "name": "stderr",
     "output_type": "stream",
     "text": [
      "C:\\Users\\rgseq\\anaconda3\\envs\\RGSpipe\\lib\\site-packages\\keras\\engine\\saving.py:165: UserWarning: TensorFlow optimizers do not make it possible to access optimizer attributes or optimizer state after instantiation. As a result, we cannot save the optimizer as part of the model save file.You will have to compile your model again after loading it. Prefer using a Keras optimizer instead (see keras.io/optimizers).\n",
      "  'TensorFlow optimizers do not '\n"
     ]
    },
    {
     "name": "stdout",
     "output_type": "stream",
     "text": [
      "50406/50406 [==============================] - 47s 940us/step - loss: 0.0116 - mse: 0.0116 - val_loss: 0.0116 - val_mse: 0.0116\n",
      "Epoch 52/100\n",
      "50406/50406 [==============================] - 47s 936us/step - loss: 0.0116 - mse: 0.0116 - val_loss: 0.0116 - val_mse: 0.0116\n",
      "Epoch 53/100\n",
      "50406/50406 [==============================] - 47s 937us/step - loss: 0.0116 - mse: 0.0116 - val_loss: 0.0116 - val_mse: 0.0116\n",
      "Epoch 54/100\n",
      "50406/50406 [==============================] - 47s 935us/step - loss: 0.0116 - mse: 0.0116 - val_loss: 0.0115 - val_mse: 0.0115\n",
      "Epoch 55/100\n",
      "50406/50406 [==============================] - 47s 938us/step - loss: 0.0116 - mse: 0.0116 - val_loss: 0.0116 - val_mse: 0.0116\n",
      "Epoch 56/100\n",
      "50406/50406 [==============================] - 47s 941us/step - loss: 0.0116 - mse: 0.0116 - val_loss: 0.0115 - val_mse: 0.0115\n",
      "Epoch 57/100\n",
      "50406/50406 [==============================] - 47s 940us/step - loss: 0.0116 - mse: 0.0116 - val_loss: 0.0115 - val_mse: 0.0115 loss: 0.0116 - mse\n",
      "Epoch 58/100\n",
      "50406/50406 [==============================] - 47s 941us/step - loss: 0.0116 - mse: 0.0116 - val_loss: 0.0115 - val_mse: 0.0115\n",
      "Epoch 59/100\n",
      "50406/50406 [==============================] - 47s 939us/step - loss: 0.0116 - mse: 0.0116 - val_loss: 0.0115 - val_mse: 0.0115\n",
      "Epoch 60/100\n",
      "50406/50406 [==============================] - 47s 939us/step - loss: 0.0115 - mse: 0.0115 - val_loss: 0.0115 - val_mse: 0.0115\n",
      "Epoch 61/100\n",
      "50406/50406 [==============================] - 47s 940us/step - loss: 0.0115 - mse: 0.0115 - val_loss: 0.0115 - val_mse: 0.0115\n",
      "Epoch 62/100\n",
      "50406/50406 [==============================] - 47s 940us/step - loss: 0.0115 - mse: 0.0115 - val_loss: 0.0115 - val_mse: 0.0115 1s\n",
      "Epoch 63/100\n",
      "50406/50406 [==============================] - 47s 942us/step - loss: 0.0115 - mse: 0.0115 - val_loss: 0.0115 - val_mse: 0.0115\n",
      "Epoch 64/100\n",
      "50406/50406 [==============================] - 47s 940us/step - loss: 0.0115 - mse: 0.0115 - val_loss: 0.0115 - val_mse: 0.0115\n",
      "Epoch 65/100\n",
      "50406/50406 [==============================] - 47s 938us/step - loss: 0.0115 - mse: 0.0115 - val_loss: 0.0115 - val_mse: 0.0115\n",
      "Epoch 66/100\n",
      "50406/50406 [==============================] - 47s 938us/step - loss: 0.0115 - mse: 0.0115 - val_loss: 0.0115 - val_mse: 0.0115\n",
      "Epoch 67/100\n",
      "50406/50406 [==============================] - 47s 938us/step - loss: 0.0115 - mse: 0.0115 - val_loss: 0.0115 - val_mse: 0.0115\n",
      "Epoch 68/100\n",
      "50406/50406 [==============================] - 47s 936us/step - loss: 0.0115 - mse: 0.0115 - val_loss: 0.0115 - val_mse: 0.01155 -\n",
      "Epoch 69/100\n",
      "50406/50406 [==============================] - 47s 941us/step - loss: 0.0115 - mse: 0.0115 - val_loss: 0.0115 - val_mse: 0.0115\n",
      "Epoch 70/100\n",
      "50406/50406 [==============================] - 47s 938us/step - loss: 0.0115 - mse: 0.0115 - val_loss: 0.0115 - val_mse: 0.0115 \n",
      "Epoch 71/100\n",
      "50406/50406 [==============================] - 47s 941us/step - loss: 0.0115 - mse: 0.0115 - val_loss: 0.0115 - val_mse: 0.0115\n",
      "Epoch 72/100\n",
      "50406/50406 [==============================] - 47s 937us/step - loss: 0.0115 - mse: 0.0115 - val_loss: 0.0115 - val_mse: 0.0115- loss: 0.0115 - mse:\n",
      "Epoch 73/100\n",
      "50406/50406 [==============================] - 47s 939us/step - loss: 0.0115 - mse: 0.0115 - val_loss: 0.0115 - val_mse: 0.0115\n",
      "Epoch 74/100\n",
      "50406/50406 [==============================] - 47s 940us/step - loss: 0.0115 - mse: 0.0115 - val_loss: 0.0115 - val_mse: 0.0115\n",
      "Epoch 75/100\n",
      "50406/50406 [==============================] - 47s 940us/step - loss: 0.0115 - mse: 0.0115 - val_loss: 0.0115 - val_mse: 0.0115\n",
      "Epoch 76/100\n",
      "50406/50406 [==============================] - 47s 942us/step - loss: 0.0115 - mse: 0.0115 - val_loss: 0.0115 - val_mse: 0.0115\n",
      "Epoch 77/100\n",
      "50406/50406 [==============================] - 47s 938us/step - loss: 0.0115 - mse: 0.0115 - val_loss: 0.0115 - val_mse: 0.0115\n",
      "Epoch 78/100\n",
      "50406/50406 [==============================] - 47s 940us/step - loss: 0.0115 - mse: 0.0115 - val_loss: 0.0115 - val_mse: 0.0115\n",
      "Epoch 79/100\n",
      "50406/50406 [==============================] - 47s 941us/step - loss: 0.0115 - mse: 0.0115 - val_loss: 0.0115 - val_mse: 0.01150.0115 - m - ETA: 2s - loss: 0.0115 - mse: 0.01 - ETA: 2s  - ETA: 0s - loss: 0.0115 - mse\n",
      "Epoch 80/100\n",
      "50406/50406 [==============================] - 47s 939us/step - loss: 0.0115 - mse: 0.0115 - val_loss: 0.0115 - val_mse: 0.0115\n",
      "Epoch 81/100\n",
      "50406/50406 [==============================] - 47s 941us/step - loss: 0.0115 - mse: 0.0115 - val_loss: 0.0115 - val_mse: 0.0115\n",
      "Epoch 82/100\n",
      "50406/50406 [==============================] - 47s 939us/step - loss: 0.0115 - mse: 0.0115 - val_loss: 0.0115 - val_mse: 0.0115\n",
      "Epoch 83/100\n",
      "50406/50406 [==============================] - 47s 940us/step - loss: 0.0115 - mse: 0.0115 - val_loss: 0.0115 - val_mse: 0.0115\n",
      "Epoch 84/100\n",
      "50406/50406 [==============================] - 47s 940us/step - loss: 0.0115 - mse: 0.0115 - val_loss: 0.0115 - val_mse: 0.0115\n",
      "Epoch 85/100\n",
      "50406/50406 [==============================] - 47s 942us/step - loss: 0.0115 - mse: 0.0115 - val_loss: 0.0115 - val_mse: 0.0115\n",
      "Epoch 86/100\n",
      "50406/50406 [==============================] - 47s 940us/step - loss: 0.0115 - mse: 0.0115 - val_loss: 0.0115 - val_mse: 0.0115\n",
      "Epoch 87/100\n",
      "50406/50406 [==============================] - 47s 941us/step - loss: 0.0115 - mse: 0.0115 - val_loss: 0.0115 - val_mse: 0.0115\n",
      "Epoch 88/100\n",
      "50406/50406 [==============================] - 47s 940us/step - loss: 0.0115 - mse: 0.0115 - val_loss: 0.0115 - val_mse: 0.0115\n",
      "Epoch 89/100\n",
      "50406/50406 [==============================] - 47s 941us/step - loss: 0.0115 - mse: 0.0115 - val_loss: 0.0115 - val_mse: 0.0115\n",
      "Epoch 90/100\n",
      "50406/50406 [==============================] - 47s 942us/step - loss: 0.0115 - mse: 0.0115 - val_loss: 0.0115 - val_mse: 0.0115\n",
      "Epoch 91/100\n",
      "50406/50406 [==============================] - 47s 942us/step - loss: 0.0115 - mse: 0.0115 - val_loss: 0.0115 - val_mse: 0.0115\n",
      "Epoch 92/100\n",
      "50406/50406 [==============================] - 47s 942us/step - loss: 0.0115 - mse: 0.0115 - val_loss: 0.0115 - val_mse: 0.0115\n",
      "Epoch 93/100\n",
      "50406/50406 [==============================] - 47s 942us/step - loss: 0.0115 - mse: 0.0115 - val_loss: 0.0115 - val_mse: 0.0115\n",
      "Epoch 94/100\n",
      "50406/50406 [==============================] - 48s 944us/step - loss: 0.0115 - mse: 0.0115 - val_loss: 0.0115 - val_mse: 0.0115\n",
      "Epoch 95/100\n",
      "50406/50406 [==============================] - 47s 941us/step - loss: 0.0115 - mse: 0.0115 - val_loss: 0.0115 - val_mse: 0.0115\n",
      "Epoch 96/100\n",
      "50406/50406 [==============================] - 48s 944us/step - loss: 0.0115 - mse: 0.0115 - val_loss: 0.0115 - val_mse: 0.011515 -  - ETA: 1\n",
      "Epoch 97/100\n",
      "50406/50406 [==============================] - 47s 942us/step - loss: 0.0115 - mse: 0.0115 - val_loss: 0.0115 - val_mse: 0.0115\n",
      "Epoch 98/100\n",
      "50406/50406 [==============================] - 47s 940us/step - loss: 0.0115 - mse: 0.0115 - val_loss: 0.0115 - val_mse: 0.0115\n",
      "Epoch 99/100\n",
      "50406/50406 [==============================] - 47s 941us/step - loss: 0.0115 - mse: 0.0115 - val_loss: 0.0115 - val_mse: 0.0115\n",
      "Epoch 100/100\n",
      "50406/50406 [==============================] - 48s 943us/step - loss: 0.0115 - mse: 0.0115 - val_loss: 0.0115 - val_mse: 0.0115\n",
      "\n",
      "Epoch 00100: loss improved from 0.01162 to 0.01148, saving model to ../models/Non_Gravity/noise_lvl4/model.h5\n"
     ]
    }
   ],
   "source": [
    "checkpoint = ModelCheckpoint(\"../models/Non_Gravity/noise_lvl4/model.h5\", monitor='loss', verbose=1,save_best_only=True, mode='auto', period=50)\n",
    "class PrintDot(keras.callbacks.Callback):\n",
    "    def on_epoch_end(self, epoch, logs):\n",
    "        if epoch % 100 == 0: print('')\n",
    "        print('.', end='')\n",
    "\n",
    "\n",
    "EPOCHS = 100\n",
    "history = model.fit(X_train, y_train,\n",
    "          batch_size=32,\n",
    "          epochs=EPOCHS,\n",
    "          validation_split=0.15,\n",
    "          verbose = 1,\n",
    "          callbacks=[checkpoint]  )"
   ]
  },
  {
   "cell_type": "code",
   "execution_count": 20,
   "id": "9c3d052f",
   "metadata": {
    "scrolled": true
   },
   "outputs": [
    {
     "data": {
      "image/png": "[encoded data removed]",
      "text/plain": [
       "<Figure size 432x288 with 1 Axes>"
      ]
     },
     "metadata": {
      "needs_background": "light"
     },
     "output_type": "display_data"
    }
   ],
   "source": [
    "#Plotting learning curves\n",
    "plot_history(history)"
   ]
  },
  {
   "cell_type": "code",
   "execution_count": 21,
   "id": "554cecaa",
   "metadata": {},
   "outputs": [],
   "source": [
    "#Download the standard scaler\n",
    "pickle.dump(scaler_2d, open('../models/Non_Gravity/noise_lvl4/scaler_2D.pkl','wb'))\n",
    "pickle.dump(scaler_3d, open('../models/Non_Gravity/noise_lvl4/scaler_3D.pkl','wb'))"
   ]
  },
  {
   "cell_type": "markdown",
   "id": "5eb15f76",
   "metadata": {},
   "source": [
    "### Testing"
   ]
  },
  {
   "cell_type": "markdown",
   "id": "ca7f54b4",
   "metadata": {},
   "source": [
    "To decode a test pose, we will repeatedly:\n",
    "\n",
    "1. Encode the input pose and retrieve the initial decoder state\n",
    "2. Run one step of the decoder with this initial state and a \"start of sequence\" token as target. The output will be the next target character.\n",
    "3. Append the target character predicted and repeat."
   ]
  },
  {
   "cell_type": "code",
   "execution_count": 20,
   "id": "d8a6f4e0",
   "metadata": {
    "collapsed": true
   },
   "outputs": [
    {
     "ename": "OSError",
     "evalue": "Unable to open file (unable to open file: name = './models/4th_test_different_arch/model.h5', errno = 2, error message = 'No such file or directory', flags = 0, o_flags = 0)",
     "output_type": "error",
     "traceback": [
      "\u001b[1;31m---------------------------------------------------------------------------\u001b[0m",
      "\u001b[1;31mOSError\u001b[0m                                   Traceback (most recent call last)",
      "\u001b[1;32m~\\AppData\\Local\\Temp/ipykernel_18960/1403658634.py\u001b[0m in \u001b[0;36m<module>\u001b[1;34m\u001b[0m\n\u001b[1;32m----> 1\u001b[1;33m \u001b[0mmodel\u001b[0m \u001b[1;33m=\u001b[0m \u001b[0mkeras\u001b[0m\u001b[1;33m.\u001b[0m\u001b[0mmodels\u001b[0m\u001b[1;33m.\u001b[0m\u001b[0mload_model\u001b[0m\u001b[1;33m(\u001b[0m\u001b[1;34m'./models/4th_test_different_arch/model.h5'\u001b[0m\u001b[1;33m)\u001b[0m\u001b[1;33m\u001b[0m\u001b[0m\n\u001b[0m\u001b[0;32m      2\u001b[0m \u001b[0mscaler_2D\u001b[0m \u001b[1;33m=\u001b[0m \u001b[0mpickle\u001b[0m\u001b[1;33m.\u001b[0m\u001b[0mload\u001b[0m\u001b[1;33m(\u001b[0m\u001b[0mopen\u001b[0m\u001b[1;33m(\u001b[0m\u001b[1;34m'./models/4th_test_different_arch/scaler_2D'\u001b[0m\u001b[1;33m,\u001b[0m\u001b[1;34m'rb'\u001b[0m\u001b[1;33m)\u001b[0m\u001b[1;33m)\u001b[0m\u001b[1;33m\u001b[0m\u001b[0m\n\u001b[0;32m      3\u001b[0m \u001b[0mscaler_3D\u001b[0m \u001b[1;33m=\u001b[0m \u001b[0mpickle\u001b[0m\u001b[1;33m.\u001b[0m\u001b[0mload\u001b[0m\u001b[1;33m(\u001b[0m\u001b[0mopen\u001b[0m\u001b[1;33m(\u001b[0m\u001b[1;34m'./models/4th_test_different_arch/scaler_3D'\u001b[0m\u001b[1;33m,\u001b[0m\u001b[1;34m'rb'\u001b[0m\u001b[1;33m)\u001b[0m\u001b[1;33m)\u001b[0m\u001b[1;33m\u001b[0m\u001b[0m\n",
      "\u001b[1;32m~\\anaconda3\\envs\\RGSpipe\\lib\\site-packages\\keras\\engine\\saving.py\u001b[0m in \u001b[0;36mload_wrapper\u001b[1;34m(*args, **kwargs)\u001b[0m\n\u001b[0;32m    490\u001b[0m                 \u001b[0mos\u001b[0m\u001b[1;33m.\u001b[0m\u001b[0mremove\u001b[0m\u001b[1;33m(\u001b[0m\u001b[0mtmp_filepath\u001b[0m\u001b[1;33m)\u001b[0m\u001b[1;33m\u001b[0m\u001b[0m\n\u001b[0;32m    491\u001b[0m             \u001b[1;32mreturn\u001b[0m \u001b[0mres\u001b[0m\u001b[1;33m\u001b[0m\u001b[0m\n\u001b[1;32m--> 492\u001b[1;33m         \u001b[1;32mreturn\u001b[0m \u001b[0mload_function\u001b[0m\u001b[1;33m(\u001b[0m\u001b[1;33m*\u001b[0m\u001b[0margs\u001b[0m\u001b[1;33m,\u001b[0m \u001b[1;33m**\u001b[0m\u001b[0mkwargs\u001b[0m\u001b[1;33m)\u001b[0m\u001b[1;33m\u001b[0m\u001b[0m\n\u001b[0m\u001b[0;32m    493\u001b[0m \u001b[1;33m\u001b[0m\u001b[0m\n\u001b[0;32m    494\u001b[0m     \u001b[1;32mreturn\u001b[0m \u001b[0mload_wrapper\u001b[0m\u001b[1;33m\u001b[0m\u001b[0m\n",
      "\u001b[1;32m~\\anaconda3\\envs\\RGSpipe\\lib\\site-packages\\keras\\engine\\saving.py\u001b[0m in \u001b[0;36mload_model\u001b[1;34m(filepath, custom_objects, compile)\u001b[0m\n\u001b[0;32m    581\u001b[0m \u001b[1;33m\u001b[0m\u001b[0m\n\u001b[0;32m    582\u001b[0m     \u001b[1;32mif\u001b[0m \u001b[0mH5Dict\u001b[0m\u001b[1;33m.\u001b[0m\u001b[0mis_supported_type\u001b[0m\u001b[1;33m(\u001b[0m\u001b[0mfilepath\u001b[0m\u001b[1;33m)\u001b[0m\u001b[1;33m:\u001b[0m\u001b[1;33m\u001b[0m\u001b[0m\n\u001b[1;32m--> 583\u001b[1;33m         \u001b[1;32mwith\u001b[0m \u001b[0mH5Dict\u001b[0m\u001b[1;33m(\u001b[0m\u001b[0mfilepath\u001b[0m\u001b[1;33m,\u001b[0m \u001b[0mmode\u001b[0m\u001b[1;33m=\u001b[0m\u001b[1;34m'r'\u001b[0m\u001b[1;33m)\u001b[0m \u001b[1;32mas\u001b[0m \u001b[0mh5dict\u001b[0m\u001b[1;33m:\u001b[0m\u001b[1;33m\u001b[0m\u001b[0m\n\u001b[0m\u001b[0;32m    584\u001b[0m             \u001b[0mmodel\u001b[0m \u001b[1;33m=\u001b[0m \u001b[0m_deserialize_model\u001b[0m\u001b[1;33m(\u001b[0m\u001b[0mh5dict\u001b[0m\u001b[1;33m,\u001b[0m \u001b[0mcustom_objects\u001b[0m\u001b[1;33m,\u001b[0m \u001b[0mcompile\u001b[0m\u001b[1;33m)\u001b[0m\u001b[1;33m\u001b[0m\u001b[0m\n\u001b[0;32m    585\u001b[0m     \u001b[1;32melif\u001b[0m \u001b[0mhasattr\u001b[0m\u001b[1;33m(\u001b[0m\u001b[0mfilepath\u001b[0m\u001b[1;33m,\u001b[0m \u001b[1;34m'write'\u001b[0m\u001b[1;33m)\u001b[0m \u001b[1;32mand\u001b[0m \u001b[0mcallable\u001b[0m\u001b[1;33m(\u001b[0m\u001b[0mfilepath\u001b[0m\u001b[1;33m.\u001b[0m\u001b[0mwrite\u001b[0m\u001b[1;33m)\u001b[0m\u001b[1;33m:\u001b[0m\u001b[1;33m\u001b[0m\u001b[0m\n",
      "\u001b[1;32m~\\anaconda3\\envs\\RGSpipe\\lib\\site-packages\\keras\\utils\\io_utils.py\u001b[0m in \u001b[0;36m__init__\u001b[1;34m(self, path, mode)\u001b[0m\n\u001b[0;32m    189\u001b[0m             \u001b[0mself\u001b[0m\u001b[1;33m.\u001b[0m\u001b[0m_is_file\u001b[0m \u001b[1;33m=\u001b[0m \u001b[1;32mFalse\u001b[0m\u001b[1;33m\u001b[0m\u001b[0m\n\u001b[0;32m    190\u001b[0m         \u001b[1;32melif\u001b[0m \u001b[0misinstance\u001b[0m\u001b[1;33m(\u001b[0m\u001b[0mpath\u001b[0m\u001b[1;33m,\u001b[0m \u001b[0msix\u001b[0m\u001b[1;33m.\u001b[0m\u001b[0mstring_types\u001b[0m\u001b[1;33m)\u001b[0m \u001b[1;32mor\u001b[0m \u001b[0m_is_path_instance\u001b[0m\u001b[1;33m(\u001b[0m\u001b[0mpath\u001b[0m\u001b[1;33m)\u001b[0m\u001b[1;33m:\u001b[0m\u001b[1;33m\u001b[0m\u001b[0m\n\u001b[1;32m--> 191\u001b[1;33m             \u001b[0mself\u001b[0m\u001b[1;33m.\u001b[0m\u001b[0mdata\u001b[0m \u001b[1;33m=\u001b[0m \u001b[0mh5py\u001b[0m\u001b[1;33m.\u001b[0m\u001b[0mFile\u001b[0m\u001b[1;33m(\u001b[0m\u001b[0mpath\u001b[0m\u001b[1;33m,\u001b[0m \u001b[0mmode\u001b[0m\u001b[1;33m=\u001b[0m\u001b[0mmode\u001b[0m\u001b[1;33m)\u001b[0m\u001b[1;33m\u001b[0m\u001b[0m\n\u001b[0m\u001b[0;32m    192\u001b[0m             \u001b[0mself\u001b[0m\u001b[1;33m.\u001b[0m\u001b[0m_is_file\u001b[0m \u001b[1;33m=\u001b[0m \u001b[1;32mTrue\u001b[0m\u001b[1;33m\u001b[0m\u001b[0m\n\u001b[0;32m    193\u001b[0m         \u001b[1;32melif\u001b[0m \u001b[0misinstance\u001b[0m\u001b[1;33m(\u001b[0m\u001b[0mpath\u001b[0m\u001b[1;33m,\u001b[0m \u001b[0mdict\u001b[0m\u001b[1;33m)\u001b[0m\u001b[1;33m:\u001b[0m\u001b[1;33m\u001b[0m\u001b[0m\n",
      "\u001b[1;32m~\\anaconda3\\envs\\RGSpipe\\lib\\site-packages\\h5py\\_hl\\files.py\u001b[0m in \u001b[0;36m__init__\u001b[1;34m(self, name, mode, driver, libver, userblock_size, swmr, rdcc_nslots, rdcc_nbytes, rdcc_w0, track_order, **kwds)\u001b[0m\n\u001b[0;32m    406\u001b[0m                 fid = make_fid(name, mode, userblock_size,\n\u001b[0;32m    407\u001b[0m                                \u001b[0mfapl\u001b[0m\u001b[1;33m,\u001b[0m \u001b[0mfcpl\u001b[0m\u001b[1;33m=\u001b[0m\u001b[0mmake_fcpl\u001b[0m\u001b[1;33m(\u001b[0m\u001b[0mtrack_order\u001b[0m\u001b[1;33m=\u001b[0m\u001b[0mtrack_order\u001b[0m\u001b[1;33m)\u001b[0m\u001b[1;33m,\u001b[0m\u001b[1;33m\u001b[0m\u001b[0m\n\u001b[1;32m--> 408\u001b[1;33m                                swmr=swmr)\n\u001b[0m\u001b[0;32m    409\u001b[0m \u001b[1;33m\u001b[0m\u001b[0m\n\u001b[0;32m    410\u001b[0m             \u001b[1;32mif\u001b[0m \u001b[0misinstance\u001b[0m\u001b[1;33m(\u001b[0m\u001b[0mlibver\u001b[0m\u001b[1;33m,\u001b[0m \u001b[0mtuple\u001b[0m\u001b[1;33m)\u001b[0m\u001b[1;33m:\u001b[0m\u001b[1;33m\u001b[0m\u001b[0m\n",
      "\u001b[1;32m~\\anaconda3\\envs\\RGSpipe\\lib\\site-packages\\h5py\\_hl\\files.py\u001b[0m in \u001b[0;36mmake_fid\u001b[1;34m(name, mode, userblock_size, fapl, fcpl, swmr)\u001b[0m\n\u001b[0;32m    171\u001b[0m         \u001b[1;32mif\u001b[0m \u001b[0mswmr\u001b[0m \u001b[1;32mand\u001b[0m \u001b[0mswmr_support\u001b[0m\u001b[1;33m:\u001b[0m\u001b[1;33m\u001b[0m\u001b[0m\n\u001b[0;32m    172\u001b[0m             \u001b[0mflags\u001b[0m \u001b[1;33m|=\u001b[0m \u001b[0mh5f\u001b[0m\u001b[1;33m.\u001b[0m\u001b[0mACC_SWMR_READ\u001b[0m\u001b[1;33m\u001b[0m\u001b[0m\n\u001b[1;32m--> 173\u001b[1;33m         \u001b[0mfid\u001b[0m \u001b[1;33m=\u001b[0m \u001b[0mh5f\u001b[0m\u001b[1;33m.\u001b[0m\u001b[0mopen\u001b[0m\u001b[1;33m(\u001b[0m\u001b[0mname\u001b[0m\u001b[1;33m,\u001b[0m \u001b[0mflags\u001b[0m\u001b[1;33m,\u001b[0m \u001b[0mfapl\u001b[0m\u001b[1;33m=\u001b[0m\u001b[0mfapl\u001b[0m\u001b[1;33m)\u001b[0m\u001b[1;33m\u001b[0m\u001b[0m\n\u001b[0m\u001b[0;32m    174\u001b[0m     \u001b[1;32melif\u001b[0m \u001b[0mmode\u001b[0m \u001b[1;33m==\u001b[0m \u001b[1;34m'r+'\u001b[0m\u001b[1;33m:\u001b[0m\u001b[1;33m\u001b[0m\u001b[0m\n\u001b[0;32m    175\u001b[0m         \u001b[0mfid\u001b[0m \u001b[1;33m=\u001b[0m \u001b[0mh5f\u001b[0m\u001b[1;33m.\u001b[0m\u001b[0mopen\u001b[0m\u001b[1;33m(\u001b[0m\u001b[0mname\u001b[0m\u001b[1;33m,\u001b[0m \u001b[0mh5f\u001b[0m\u001b[1;33m.\u001b[0m\u001b[0mACC_RDWR\u001b[0m\u001b[1;33m,\u001b[0m \u001b[0mfapl\u001b[0m\u001b[1;33m=\u001b[0m\u001b[0mfapl\u001b[0m\u001b[1;33m)\u001b[0m\u001b[1;33m\u001b[0m\u001b[0m\n",
      "\u001b[1;32mh5py\\_objects.pyx\u001b[0m in \u001b[0;36mh5py._objects.with_phil.wrapper\u001b[1;34m()\u001b[0m\n",
      "\u001b[1;32mh5py\\_objects.pyx\u001b[0m in \u001b[0;36mh5py._objects.with_phil.wrapper\u001b[1;34m()\u001b[0m\n",
      "\u001b[1;32mh5py\\h5f.pyx\u001b[0m in \u001b[0;36mh5py.h5f.open\u001b[1;34m()\u001b[0m\n",
      "\u001b[1;31mOSError\u001b[0m: Unable to open file (unable to open file: name = './models/4th_test_different_arch/model.h5', errno = 2, error message = 'No such file or directory', flags = 0, o_flags = 0)"
     ]
    }
   ],
   "source": [
    "model = keras.models.load_model('../models/Non_Gravity/2d_gt/model.h5')\n",
    "scaler_2D = pickle.load(open('../models/Non_Gravity/2d_gt/scaler_2D.pkl','rb'))\n",
    "scaler_3D = pickle.load(open('../models/Non_Gravity/2d_gt/scaler_3D.pkl','rb'))                                "
   ]
  },
  {
   "cell_type": "code",
   "execution_count": 22,
   "id": "b6b45381",
   "metadata": {},
   "outputs": [],
   "source": [
    "y_predicted = model.predict(X_test)"
   ]
  },
  {
   "cell_type": "markdown",
   "id": "98e5c186",
   "metadata": {},
   "source": [
    "#### Compute MPJPE"
   ]
  },
  {
   "cell_type": "code",
   "execution_count": 23,
   "id": "85505dc4",
   "metadata": {},
   "outputs": [],
   "source": [
    "all_distances = []\n",
    "for i in range(0,y_test.shape[0]):\n",
    "    gt_splitted = split_nd_coordinates_array(y_test[i][4],3)\n",
    "    pred_splitted = split_nd_coordinates_array(y_predicted[i][4],3)\n",
    "    keypoints_distances = []\n",
    "    for j in range(0,pred_splitted.shape[0]):\n",
    "        keypoints_distances.append(distance.euclidean(gt_splitted[j], pred_splitted[j]))\n",
    "    all_distances.append(keypoints_distances)\n",
    "    \n",
    "df_PJPE = pd.DataFrame(all_distances).rename(columns=mapping_numbers_variables)"
   ]
  },
  {
   "cell_type": "code",
   "execution_count": 24,
   "id": "764a1b43",
   "metadata": {},
   "outputs": [
    {
     "name": "stdout",
     "output_type": "stream",
     "text": [
      "The obtained MPJPE error is: \u001b[1m15.909724396087418cm\n"
     ]
    }
   ],
   "source": [
    "means = []\n",
    "for column in list(df_PJPE.columns):\n",
    "    means.append(df_PJPE[column].mean())\n",
    "    \n",
    "mpjpe = sum(means)/len(df_PJPE.columns)\n",
    "print('The obtained MPJPE error is: '+'\\033[1m'+str(mpjpe*100)+'cm')"
   ]
  },
  {
   "cell_type": "code",
   "execution_count": 26,
   "id": "4d40700b",
   "metadata": {},
   "outputs": [
    {
     "data": {
      "text/plain": [
       "right_shoulder    13.183985\n",
       "right_elbow       15.431440\n",
       "right_wrist       12.297987\n",
       "left_shoulder     13.069906\n",
       "left_elbow        15.295949\n",
       "left_wrist        12.450002\n",
       "dtype: float64"
      ]
     },
     "execution_count": 26,
     "metadata": {},
     "output_type": "execute_result"
    }
   ],
   "source": [
    "df_PJPE.mean()*100"
   ]
  },
  {
   "cell_type": "code",
   "execution_count": 27,
   "id": "57dcdb5f",
   "metadata": {},
   "outputs": [
    {
     "data": {
      "text/plain": [
       "right_shoulder     8.106207\n",
       "right_elbow       10.044989\n",
       "right_wrist        8.123389\n",
       "left_shoulder      7.670724\n",
       "left_elbow         9.708398\n",
       "left_wrist         8.189408\n",
       "dtype: float64"
      ]
     },
     "execution_count": 27,
     "metadata": {},
     "output_type": "execute_result"
    }
   ],
   "source": [
    "df_PJPE.std()*100"
   ]
  },
  {
   "cell_type": "code",
   "execution_count": 27,
   "id": "14b255e8",
   "metadata": {},
   "outputs": [
    {
     "data": {
      "text/plain": [
       "([<matplotlib.axis.XTick at 0x1d298f2beb8>,\n",
       "  <matplotlib.axis.XTick at 0x1d298f2b828>,\n",
       "  <matplotlib.axis.XTick at 0x1d2188e0748>,\n",
       "  <matplotlib.axis.XTick at 0x1d29d0f5390>,\n",
       "  <matplotlib.axis.XTick at 0x1d29d0f54a8>,\n",
       "  <matplotlib.axis.XTick at 0x1d29d0f5898>],\n",
       " [Text(1, 0, 'right_shoulder'),\n",
       "  Text(2, 0, 'right_elbow'),\n",
       "  Text(3, 0, 'right_wrist'),\n",
       "  Text(4, 0, 'left_shoulder'),\n",
       "  Text(5, 0, 'left_elbow'),\n",
       "  Text(6, 0, 'left_wrist')])"
      ]
     },
     "execution_count": 27,
     "metadata": {},
     "output_type": "execute_result"
    },
    {
     "data": {
      "image/png": "[encoded data removed]",
      "text/plain": [
       "<Figure size 720x576 with 1 Axes>"
      ]
     },
     "metadata": {
      "needs_background": "light"
     },
     "output_type": "display_data"
    }
   ],
   "source": [
    "fig = plt.figure(figsize=(10,8))\n",
    "plt.boxplot(df_PJPE*100)\n",
    "plt.title('Boxplotsper joint position Euclidean distance')\n",
    "plt.ylabel('Euclidean distance [cm]')\n",
    "#plt.ylim([0,80])\n",
    "positions = list(mapping_numbers_variables.keys())\n",
    "positions = [i+1 for i in positions]\n",
    "labels = list(mapping_numbers_variables.values())\n",
    "plt.xticks(positions,labels)"
   ]
  },
  {
   "cell_type": "code",
   "execution_count": null,
   "id": "f488f700",
   "metadata": {},
   "outputs": [],
   "source": []
  }
 ],
 "metadata": {
  "kernelspec": {
   "display_name": "Python 3 (ipykernel)",
   "language": "python",
   "name": "python3"
  },
  "language_info": {
   "codemirror_mode": {
    "name": "ipython",
    "version": 3
   },
   "file_extension": ".py",
   "mimetype": "text/x-python",
   "name": "python",
   "nbconvert_exporter": "python",
   "pygments_lexer": "ipython3",
   "version": "3.7.0"
  },
  "toc": {
   "base_numbering": 1,
   "nav_menu": {
    "height": "269.983px",
    "width": "252.882px"
   },
   "number_sections": true,
   "sideBar": true,
   "skip_h1_title": false,
   "title_cell": "Table of Contents",
   "title_sidebar": "Contents",
   "toc_cell": false,
   "toc_position": {},
   "toc_section_display": true,
   "toc_window_display": false
  },
  "varInspector": {
   "cols": {
    "lenName": 16,
    "lenType": 16,
    "lenVar": 40
   },
   "kernels_config": {
    "python": {
     "delete_cmd_postfix": "",
     "delete_cmd_prefix": "del ",
     "library": "var_list.py",
     "varRefreshCmd": "print(var_dic_list())"
    },
    "r": {
     "delete_cmd_postfix": ") ",
     "delete_cmd_prefix": "rm(",
     "library": "var_list.r",
     "varRefreshCmd": "cat(var_dic_list()) "
    }
   },
   "position": {
    "height": "297.865px",
    "left": "1754.31px",
    "right": "20px",
    "top": "131.976px",
    "width": "350px"
   },
   "types_to_exclude": [
    "module",
    "function",
    "builtin_function_or_method",
    "instance",
    "_Feature"
   ],
   "window_display": false
  }
 },
 "nbformat": 4,
 "nbformat_minor": 5
}
